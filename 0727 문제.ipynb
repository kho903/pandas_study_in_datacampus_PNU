{
 "cells": [
  {
   "cell_type": "code",
   "execution_count": 16,
   "metadata": {},
   "outputs": [],
   "source": [
    "import pandas as pd\n",
    "import numpy as np\n",
    "import matplotlib.pyplot as plt\n",
    "import matplotlib\n",
    "matplotlib.rcParams['font.family']= 'Malgun Gothic'\n",
    "matplotlib.rcParams['axes.unicode_minus'] = False"
   ]
  },
  {
   "cell_type": "code",
   "execution_count": 6,
   "metadata": {},
   "outputs": [],
   "source": [
    "sr = pd.Series([90, 90, 55, 60, 76, 80, 76, 88, 30, 25], name='국어점수')\n",
    "sr.index=['홍길동', '이순신', '임꺽정', '정난정', '이이', '이황', '정도전', '김철수1', '김철수2', '김철수3']"
   ]
  },
  {
   "cell_type": "code",
   "execution_count": 4,
   "metadata": {},
   "outputs": [
    {
     "data": {
      "text/plain": [
       "홍길동     90\n",
       "이순신     90\n",
       "임꺽정     55\n",
       "정난정     60\n",
       "이이      76\n",
       "이황      80\n",
       "정도전     76\n",
       "김철수1    88\n",
       "김철수2    30\n",
       "김철수3    25\n",
       "Name: 국어점수, dtype: int64"
      ]
     },
     "execution_count": 4,
     "metadata": {},
     "output_type": "execute_result"
    }
   ],
   "source": [
    "sr"
   ]
  },
  {
   "cell_type": "code",
   "execution_count": 5,
   "metadata": {},
   "outputs": [
    {
     "data": {
      "text/plain": [
       "90"
      ]
     },
     "execution_count": 5,
     "metadata": {},
     "output_type": "execute_result"
    }
   ],
   "source": [
    "# 1. 국어점수가 가장큰값을 구하시요\n",
    "sr.max()"
   ]
  },
  {
   "cell_type": "code",
   "execution_count": 6,
   "metadata": {},
   "outputs": [
    {
     "name": "stdout",
     "output_type": "stream",
     "text": [
      "홍길동\n",
      "이순신\n"
     ]
    }
   ],
   "source": [
    "# 2. 국어점수가 가장큰값의 이름을 구하시오\n",
    "\n",
    "for i in range(len(sr)):\n",
    "    if sr[i]==sr.max():\n",
    "        print(sr.index[i])\n"
   ]
  },
  {
   "cell_type": "code",
   "execution_count": 7,
   "metadata": {},
   "outputs": [
    {
     "data": {
      "text/plain": [
       "array([90, 90, 88], dtype=int64)"
      ]
     },
     "execution_count": 7,
     "metadata": {},
     "output_type": "execute_result"
    }
   ],
   "source": [
    "# for i in range(len(sr)):\n",
    "#     if sr[i]>80:\n",
    "#         print(sr.index[i])\n",
    "        \n",
    "# 3. 국어점수가 80점이상인 값을 구하시오\n",
    "sr[sr>80].values"
   ]
  },
  {
   "cell_type": "code",
   "execution_count": 8,
   "metadata": {},
   "outputs": [
    {
     "data": {
      "text/plain": [
       "array([55, 60, 76, 80, 76], dtype=int64)"
      ]
     },
     "execution_count": 8,
     "metadata": {},
     "output_type": "execute_result"
    }
   ],
   "source": [
    "# 4. 국어 점수가 50점이상 80점이하인 값을 구하시오\n",
    "sr[(sr<=80)&(sr>=50)].values"
   ]
  },
  {
   "cell_type": "code",
   "execution_count": 9,
   "metadata": {},
   "outputs": [
    {
     "data": {
      "text/plain": [
       "김철수1    88\n",
       "김철수2    30\n",
       "김철수3    25\n",
       "Name: 국어점수, dtype: int64"
      ]
     },
     "execution_count": 9,
     "metadata": {},
     "output_type": "execute_result"
    }
   ],
   "source": [
    "# 5. 이름이 김으로 시작하는 데이터를 구하시오\n",
    "sr[sr.index.str.contains('^김')]"
   ]
  },
  {
   "cell_type": "code",
   "execution_count": 10,
   "metadata": {
    "scrolled": true
   },
   "outputs": [
    {
     "data": {
      "text/plain": [
       "김철수1    88\n",
       "김철수2    30\n",
       "김철수3    25\n",
       "이순신     90\n",
       "이이      76\n",
       "이황      80\n",
       "임꺽정     55\n",
       "정난정     60\n",
       "정도전     76\n",
       "홍길동     90\n",
       "Name: 국어점수, dtype: int64"
      ]
     },
     "execution_count": 10,
     "metadata": {},
     "output_type": "execute_result"
    }
   ],
   "source": [
    "# 6. 이름순으로 정렬하시요\n",
    "sr.sort_index(ascending=True)"
   ]
  },
  {
   "cell_type": "code",
   "execution_count": 11,
   "metadata": {},
   "outputs": [
    {
     "name": "stdout",
     "output_type": "stream",
     "text": [
      "이름 : 홍길동\n"
     ]
    },
    {
     "data": {
      "text/plain": [
       "90"
      ]
     },
     "execution_count": 11,
     "metadata": {},
     "output_type": "execute_result"
    }
   ],
   "source": [
    "# 7. 키보드로 입력받아 검색된 이름의 점수를 구하시오\n",
    "search_name = input(\"이름 : \")\n",
    "sr[search_name]\n"
   ]
  },
  {
   "cell_type": "code",
   "execution_count": 9,
   "metadata": {
    "collapsed": true
   },
   "outputs": [
    {
     "name": "stdout",
     "output_type": "stream",
     "text": [
      "이름\t국어\t학점\n",
      "====================\n",
      "홍길동\t90\tA\n",
      "이순신\t90\tA\n",
      "임꺽정\t55\tF\n",
      "정난정\t60\tD\n",
      "이이\t76\tC\n",
      "이황\t80\tB\n",
      "정도전\t76\tC\n",
      "김철수1\t88\tB\n",
      "김철수2\t30\tF\n",
      "김철수3\t25\tF\n"
     ]
    }
   ],
   "source": [
    "# 8. 데이터를 다음과 같이 출력하시오\n",
    "# (0~59:F , 60~69:D, 70~79:C, 80~89:B, 90~100:A\n",
    "# ------------------------\n",
    "#     이름    국어   학점\n",
    "# ------------------------\n",
    "#     홍길동  70     C\n",
    "#     ...\n",
    "#     김철수3 25     F\n",
    "\n",
    "score = pd.cut(sr, [-1,59,69,79,89,100], labels=['F','D','C', 'B', 'A'])\n",
    "\n",
    "print('이름', '국어', '학점', sep='\\t')\n",
    "print('='*20)\n",
    "for n, k, g in zip(sr.index, sr.values, score.values):\n",
    "    print(n, k, g, sep='\\t')\n",
    "# DataFrame\n",
    "# sr.values\n",
    "# pd.DataFrame({'이름': sr.index, '국어':sr.values, '학점':score.values}, columns=['이름', '국어','학점'])"
   ]
  },
  {
   "cell_type": "code",
   "execution_count": 13,
   "metadata": {},
   "outputs": [
    {
     "data": {
      "text/plain": [
       "홍길동     100\n",
       "이순신     100\n",
       "임꺽정      75\n",
       "정난정      80\n",
       "이이       86\n",
       "이황       90\n",
       "정도전      86\n",
       "김철수1     98\n",
       "김철수2     60\n",
       "김철수3     55\n",
       "Name: 국어점수, dtype: int64"
      ]
     },
     "execution_count": 13,
     "metadata": {},
     "output_type": "execute_result"
    }
   ],
   "source": [
    "# 9. 국어 점수 100점이하는 가산점10를 부여하고\n",
    "#    국어 점수 70점이하는 가산점20를 부여하고\n",
    "#    국어 점수 50점이하는 가산점30를 부여하시오\n",
    "def plus(v):\n",
    "    if v<=50:\n",
    "        return v + 30\n",
    "        \n",
    "    elif v <=70:\n",
    "        return v + 20\n",
    "    \n",
    "    else:\n",
    "        return v + 10\n",
    "    \n",
    "sr.apply(plus)\n"
   ]
  },
  {
   "cell_type": "code",
   "execution_count": 14,
   "metadata": {},
   "outputs": [
    {
     "name": "stdout",
     "output_type": "stream",
     "text": [
      "60\n",
      "76\n",
      "80\n",
      "76\n"
     ]
    }
   ],
   "source": [
    "# 10. 국어점수 25%~75% 사이에 해당하는 값을 구하시오\n",
    "# sr.quantile([0.25, 0.75])\n",
    "# sr.quantile([0.75])\n",
    "\n",
    "# # print(sr[0])\n",
    "for i in range(len(sr)):\n",
    "    if (sr[i]< sr.quantile([0.75]).values[0]) & (sr[i]>sr.quantile([0.25]).values[0]):\n",
    "        print(sr[i])\n",
    "# sr.quantile([0.75]).values[0]"
   ]
  },
  {
   "cell_type": "code",
   "execution_count": 15,
   "metadata": {
    "scrolled": false
   },
   "outputs": [
    {
     "data": {
      "text/plain": [
       "90    2\n",
       "88    1\n",
       "80    1\n",
       "76    2\n",
       "60    1\n",
       "55    1\n",
       "30    1\n",
       "25    1\n",
       "Name: 국어점수, dtype: int64"
      ]
     },
     "execution_count": 15,
     "metadata": {},
     "output_type": "execute_result"
    }
   ],
   "source": [
    "# 11. 각 국어점수에 대한 갯수 를 구하시오\n",
    "sr.value_counts().sort_index(ascending=False)\n"
   ]
  },
  {
   "cell_type": "code",
   "execution_count": 24,
   "metadata": {
    "scrolled": false
   },
   "outputs": [
    {
     "data": {
      "image/png": "[encoded data removed]",
      "text/plain": [
       "<Figure size 432x288 with 1 Axes>"
      ]
     },
     "metadata": {
      "needs_background": "light"
     },
     "output_type": "display_data"
    }
   ],
   "source": [
    "# 12. 국어 점수를 10개로 분할한 경우 각 점수별 도수를 구하고 도수분포표를 그리시요\n",
    "# pd.cut(sr,[-1,10,20,30,40,50,60,70,80,90,100]).value_counts().plot(kind='bar')\n",
    "pd.cut(sr, 10).value_counts()\n",
    "sr.hist(bins=10)\n",
    "plt.show()\n"
   ]
  },
  {
   "cell_type": "code",
   "execution_count": 32,
   "metadata": {},
   "outputs": [
    {
     "data": {
      "image/png": "[encoded data removed]",
      "text/plain": [
       "<Figure size 432x288 with 1 Axes>"
      ]
     },
     "metadata": {},
     "output_type": "display_data"
    }
   ],
   "source": [
    "# under50_name = sr[sr.values<=50].index\n",
    "\n",
    "# under50_score = []\n",
    "# for i in sr.values:\n",
    "#     if i<=50:\n",
    "#         under50_score.append(i)\n",
    "        \n",
    "# plt.pie(under50_score,labels=under50_name, shadow=True, startangle=90)\n",
    "# plt.show()\n",
    "\n",
    "# sr.values<=50\n",
    "\n",
    "sr[sr<=50].plot(kind='pie', autopct='%.2f', shadow=True, explode=[0.1,0])\n",
    "plt.show()"
   ]
  },
  {
   "cell_type": "code",
   "execution_count": 35,
   "metadata": {
    "scrolled": true
   },
   "outputs": [
    {
     "name": "stdout",
     "output_type": "stream",
     "text": [
      "--------------------\n",
      "성\t이름\t국어\n",
      "--------------------\n",
      "홍\t길동\t90\n",
      "이\t순신\t90\n",
      "임\t꺽정\t55\n",
      "정\t난정\t60\n",
      "이\t이\t76\n",
      "이\t황\t80\n",
      "정\t도전\t76\n",
      "김\t철수1\t88\n",
      "김\t철수2\t30\n",
      "김\t철수3\t25\n"
     ]
    }
   ],
   "source": [
    "# 14. 아래처럼 출력하시요\n",
    "# (힌트: 성과 이름이 분리된 시리즈를 구하고 zip 을이용 )\n",
    "# ------------------------\n",
    "#   성     이름    국어\n",
    "# ------------------------\n",
    "#   홍     길동    70 \n",
    "#     ...\n",
    "#   김     철수3   25    \n",
    "# last_name = sr.index.str[0]\n",
    "# first_name = sr.index.str[1:]\n",
    "\n",
    "# last_name_list = []\n",
    "# first_name_list = []\n",
    "# score_list = []\n",
    "\n",
    "# for a,b,c in zip(last_name, first_name, sr.values):\n",
    "#     last_name_list.append(a)\n",
    "#     first_name_list.append(b)\n",
    "#     score_list.append(c)\n",
    "\n",
    "# pd.DataFrame({'성':last_name_list, '이름':first_name_list, '국어':score_list}, columns=['성','이름', '국어'])\n",
    "print('-'*20)\n",
    "print('성', '이름', '국어', sep='\\t')\n",
    "print('-'*20)\n",
    "for a, b, c in zip(sr.index.str[0], sr.index.str[1:], sr.values):\n",
    "    print(a, b, c, sep='\\t')"
   ]
  }
 ],
 "metadata": {
  "kernelspec": {
   "display_name": "Python 3",
   "language": "python",
   "name": "python3"
  },
  "language_info": {
   "codemirror_mode": {
    "name": "ipython",
    "version": 3
   },
   "file_extension": ".py",
   "mimetype": "text/x-python",
   "name": "python",
   "nbconvert_exporter": "python",
   "pygments_lexer": "ipython3",
   "version": "3.7.6"
  }
 },
 "nbformat": 4,
 "nbformat_minor": 4
}
